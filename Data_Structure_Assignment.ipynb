{
 "cells": [
  {
   "cell_type": "markdown",
   "id": "6263a260-3e08-494c-aa33-f7f854e22faa",
   "metadata": {},
   "source": [
    "#1. Discuss string slicing and provide examples\n",
    "#Answer: String slicing is way to extract something into the variable where is value stored as string. To extrect [start:end:step]  "
   ]
  },
  {
   "cell_type": "code",
   "execution_count": 10,
   "id": "5461801d-c0c9-47e8-a566-f0d9b5b01fee",
   "metadata": {},
   "outputs": [
    {
     "data": {
      "text/plain": [
       "'Sunder Memorial'"
      ]
     },
     "execution_count": 10,
     "metadata": {},
     "output_type": "execute_result"
    }
   ],
   "source": [
    "scl_name =  \"Sunder Memorial Public High School\"\n",
    "#slicing>> \"Sunder Memorial\"\n",
    "scl_name.index(\"Memorial\")\n",
    "len(\"Memorial\")\n",
    "# Memorial start from no. 7  index >> Memorial lenght is  8 >> 8+7 \n",
    "get_name = scl_name[:15]\n",
    "get_name"
   ]
  },
  {
   "cell_type": "raw",
   "id": "6b61bb34-e3fa-4beb-9113-eca539aeb99e",
   "metadata": {},
   "source": [
    "2. Explain the key features of lists in Python.\n",
    "Answer:  List has some key fetures given below:\n",
    "1. List is Mutable.\n",
    "2. List can be modified and updated as want.\n",
    "3. can slicing\n",
    "4. can indexing\n",
    "5. can contain items diffrent data types called as Heterogenous Elements\n",
    "6. list comprehension\n",
    "7. Membership testing\n",
    "here is some examples \n"
   ]
  },
  {
   "cell_type": "code",
   "execution_count": 3,
   "id": "b207f32e-35a7-4403-90fe-5b79f021b7fe",
   "metadata": {},
   "outputs": [
    {
     "name": "stdout",
     "output_type": "stream",
     "text": [
      "name : Ankur, Designation : Personal Assistant, Lives : Noida, Aim : Aim is to Became Eng.\n",
      "name :  Ankur\n",
      "Desig :  Personal Assistant\n",
      "Lives :  Noida\n",
      "Aim :  Aim is to Became Eng.\n"
     ]
    }
   ],
   "source": [
    "emp =  [\"Ankur\", \"Personal Assistant\", \"Noida\", \"Aim is to Became Eng.\"]\n",
    "name   = emp[0]\n",
    "Desig  = emp[1]\n",
    "lives  = emp[2]\n",
    "aim    = emp[3]\n",
    "ref = [\"name\", \"Desig\", \"Lives\", \"Aim\"]\n",
    "\n",
    "print(f\"name : {name}, Designation : {Desig}, Lives : {lives}, Aim : {aim}\")\n",
    "\n",
    "[i for i in emp]\n",
    "\n",
    "for i in range(len(emp)):\n",
    "    # ref[i] = emp[i]\n",
    "    print(ref[i], \": \", emp[i])"
   ]
  },
  {
   "cell_type": "code",
   "execution_count": 72,
   "id": "a7f01b9c-c1a1-43ad-8562-b39042f00198",
   "metadata": {},
   "outputs": [
    {
     "data": {
      "text/plain": [
       "['Who', 'Aim is to Became Eng.', 'Ghaziabad']"
      ]
     },
     "execution_count": 72,
     "metadata": {},
     "output_type": "execute_result"
    }
   ],
   "source": [
    "#3 Describe how to access, modify, and delete elements in a list with examples.\n",
    "\n",
    "emp = ['Ankur', 'Personal Assistant', 'Noida', 'Aim is to Became Eng.']\n",
    "\n",
    "emp.append(\"Ghaziabad\")# Each element in a list has an index, starting from 0 for the first element\n",
    "emp.remove(\"Ankur\") # Remove the element in a list by indexing position or element name \n",
    "emp.pop(0)\n",
    "emp[0] = \"Who\" # To modifying the element in a list by index number and assigning with the element \n",
    "emp"
   ]
  },
  {
   "cell_type": "code",
   "execution_count": 80,
   "id": "d59ed46a-df24-4b5e-881c-fc8fd4f8b7b2",
   "metadata": {},
   "outputs": [
    {
     "ename": "TypeError",
     "evalue": "'tuple' object does not support item assignment",
     "output_type": "error",
     "traceback": [
      "\u001b[1;31m---------------------------------------------------------------------------\u001b[0m",
      "\u001b[1;31mTypeError\u001b[0m                                 Traceback (most recent call last)",
      "Cell \u001b[1;32mIn[80], line 8\u001b[0m\n\u001b[0;32m      5\u001b[0m \u001b[38;5;66;03m# userid.remove(\"garg2979@gmail.com\") # tuple can not be modifyed or delete\u001b[39;00m\n\u001b[0;32m      6\u001b[0m \u001b[38;5;66;03m# userid.pop()# same as above in tuple\u001b[39;00m\n\u001b[0;32m      7\u001b[0m emp[\u001b[38;5;241m0\u001b[39m]\u001b[38;5;241m=\u001b[39m \u001b[38;5;124m\"\u001b[39m\u001b[38;5;124mShivank\u001b[39m\u001b[38;5;124m\"\u001b[39m\n\u001b[1;32m----> 8\u001b[0m userid[\u001b[38;5;241m0\u001b[39m]\u001b[38;5;241m=\u001b[39m \u001b[38;5;124m\"\u001b[39m\u001b[38;5;124mnothing\u001b[39m\u001b[38;5;124m\"\u001b[39m\n",
      "\u001b[1;31mTypeError\u001b[0m: 'tuple' object does not support item assignment"
     ]
    }
   ],
   "source": [
    "# 4.Compare and contrast tuples and lists with examples.\n",
    "emp = [\"Ankur\", \"Sonu\", 78 , 65, 76.68]\n",
    "userid = (\"garg370@gmail.cm\", \"garg2979@gmail.com\", +91000000000)\n",
    "emp.remove(65) #list elemment can remove\n",
    "userid.remove(\"garg2979@gmail.com\") # tuple can not be modifyed or delete\n",
    "userid.pop()# same as above in tuple\n",
    "emp[0]= \"Shivank\" # can assigning in the list\n",
    "userid[0]= \"nothing\" # can not assign in the tuple\n"
   ]
  },
  {
   "cell_type": "raw",
   "id": "70990c98-9ee4-462c-abd3-5d6c177c1938",
   "metadata": {},
   "source": [
    "\"\"\"#5 Describe the key features of sets and provide examples of their use.\n",
    "Set is Immutable because there has no any indexing feature, and unorderd element. no any double element can possible in the set, this is key feature of set, it is support tuple in the set because tuple is immutable.\"\"\""
   ]
  },
  {
   "cell_type": "code",
   "execution_count": null,
   "id": "acce3223-3b93-4cf2-97ba-f7f54bd328aa",
   "metadata": {},
   "outputs": [],
   "source": [
    "a = {2,4,6,8,10,12,14,2,8,16,14,6}\n",
    "print(a) # It doesn't kept repeted element in the set.\n",
    "# a[2] # It doesn't support indexing.\n",
    "a.update([\"Ankur\",\"Sonu\"])\n",
    "a.update({\"Garg\",\"Sonu\"})\n",
    "a1 = [\"What is\", \"Your Name\"]\n",
    "a2 = {\"I\", \"Am\"}\n",
    "a.update(a1) # update the set keeping itrate\n",
    "a.update(a2) # update the set keeping itrate\n",
    "# a.add([2,4]) # not support list \n",
    "# a.add([a1]) # not support list beacaue list is mutable\n",
    "a3 = (\"School\", \"Ghaziabad\")\n",
    "a.add((15,65,75)) # set support tuple because tuple is immutable \n",
    "a.add(a3) # set support tuple because tuple is immutable \n",
    "a = {2,4,6,8,10,12,14,2,8,16,14,6}\n",
    "a1 = {2,5,10,15,16,28,15,35,8,16}\n",
    "############### Key Features #############\n",
    "# a.difference_update(a1) # it is feature key of set by this can comapare two variable value and get diffrence set. \n",
    "# a.symmetric_difference(a1)\n",
    "# a.intersection(a1)\n",
    "a.union(a1)"
   ]
  },
  {
   "cell_type": "code",
   "execution_count": null,
   "id": "c47e04e7-be77-47d3-9e14-886ff0c45cff",
   "metadata": {},
   "outputs": [],
   "source": [
    "#6 Discuss the use case of tuples and sets in Python programming.\n",
    "\"\"\" tuples is immutable collection of item, allow duplicates. Defined using parentheses ()\n",
    "1.Tuple stor fixed data.\n",
    "    immutable -  Once created, items can not be modified.\n",
    "    indexed- Elements can be accessed by their possition.\n",
    "    Allow Duplicates -  can contain duplicats elements\n",
    "    Static Size - Size is fixed once created \n",
    "2. Ordered -  Tuples maintain the order of elements.\n",
    "3. Faster than lists -  Since Tuple are immutable, they are faster to access and process compared to lists.\n",
    "4. Heterogeneous Data -  like list tuples can store elements of different data types , int, float, string, and other collection.\n",
    "5. Allows Nesting :  Tuples can contain other tuples or collection.\n",
    "6. Supports Basic Operations -  can performs operation like indexing, slicing, concatenation with tuples.\"\"\""
   ]
  },
  {
   "cell_type": "code",
   "execution_count": 71,
   "id": "abbcb5e4-f195-4d9c-904d-8e061c903ee6",
   "metadata": {},
   "outputs": [
    {
     "data": {
      "text/plain": [
       "{'E001': 'Shivank',\n",
       " 'E002': {'Name': 'Sonu', 'Designation': 'Accountant', 'Lives': 'Gzb'},\n",
       " 'E005': 'What is this',\n",
       " 'E010': 'Shivank'}"
      ]
     },
     "execution_count": 71,
     "metadata": {},
     "output_type": "execute_result"
    }
   ],
   "source": [
    "#7 Describe how to add, modify, and delete items in a dictionary with examples.\n",
    "employee = {\n",
    "    \"E001\" : {\"Name\" : \"Ankur\", \"Designation\" : \"Personal Assistant\", \"Lives\" : \"Noida\"},\n",
    "    \"E002\" : {\"Name\" : \"Sonu\", \"Designation\" : \"Accountant\", \"Lives\" : \"Gzb\"},\n",
    "    \"E004\" : {\"Name\" : \"Shivank\", \"Designation\" : \"Eng.\", \"Lives\" : \"Ddn\"}\n",
    "}\n",
    "\n",
    "# Adding items \n",
    "adding = {\"E005\": \"Ankur\"}\n",
    "# print(employee)\n",
    "employee.update(adding)\n",
    "employee.update({\"E006\" : \"Shivank\"})\n",
    "employee\n",
    "# modifying items\n",
    "employee[\"E005\"] = \"What is this\"\n",
    "employee[\"E010\"] = employee.pop(\"E006\") # for key modification and delete \n",
    "employee.pop(\"E004\")\n",
    "employee[\"E001\"]= \"Shivank\"\n",
    "employee"
   ]
  },
  {
   "cell_type": "code",
   "execution_count": 80,
   "id": "910fce35-d09a-4471-b529-48384283a041",
   "metadata": {},
   "outputs": [],
   "source": [
    "#8 Discuss the importance of dictionary keys being immutable and provide examples.\n",
    "my_dict = {(\"Ankur\", \"Akki\") : \"doing job\"} \n",
    "\"\"\"here is showing key Ankur and Akki which value is doing job, \n",
    "in this case keys are Immutable because two diffrent element keys keep the same value. \n",
    "And other that case where two or more keys values is keeping same. where value could be modify but key can not be change. \"\"\"\n",
    "\n"
   ]
  },
  {
   "cell_type": "code",
   "execution_count": 81,
   "id": "55bdc6c5-6b74-4ecb-917f-16a116f1a7d8",
   "metadata": {},
   "outputs": [
    {
     "data": {
      "text/plain": [
       "{('Ankur', 'Akki'): 'doing job'}"
      ]
     },
     "execution_count": 81,
     "metadata": {},
     "output_type": "execute_result"
    }
   ],
   "source": [
    "my_dict"
   ]
  },
  {
   "cell_type": "code",
   "execution_count": null,
   "id": "c377d690-1c41-4bfb-b487-019d9d874ee4",
   "metadata": {},
   "outputs": [],
   "source": []
  },
  {
   "cell_type": "code",
   "execution_count": null,
   "id": "96423d06-bbd9-4c7a-b58a-463c94698d71",
   "metadata": {},
   "outputs": [],
   "source": []
  }
 ],
 "metadata": {
  "kernelspec": {
   "display_name": "Python 3 (ipykernel)",
   "language": "python",
   "name": "python3"
  },
  "language_info": {
   "codemirror_mode": {
    "name": "ipython",
    "version": 3
   },
   "file_extension": ".py",
   "mimetype": "text/x-python",
   "name": "python",
   "nbconvert_exporter": "python",
   "pygments_lexer": "ipython3",
   "version": "3.12.7"
  }
 },
 "nbformat": 4,
 "nbformat_minor": 5
}
